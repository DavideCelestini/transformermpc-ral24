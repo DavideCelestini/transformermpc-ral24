{
 "cells": [
  {
   "cell_type": "code",
   "execution_count": null,
   "metadata": {},
   "outputs": [],
   "source": [
    "import numpy as np\n",
    "import matplotlib.pyplot as plt\n",
    "%matplotlib widget\n",
    "\n",
    "dagger_training = True\n",
    "self_training = True\n",
    "if self_training:\n",
    "    dagger_training = True\n",
    "\n",
    "f = []\n",
    "unfeas_info = []\n",
    "log = []\n",
    "n_iter = 10\n",
    "for i in range(n_iter):\n",
    "    if self_training:\n",
    "        f.append(np.load('/home/dcelestini/DecisionTransformerForTrajectoryOptimization/drone/decision_transformer/saved_files/checkpoints/checkpoint_quad_random_minimum_ctgrtg_self_' + str(i) + '/log.npz', allow_pickle=True))\n",
    "    else:\n",
    "        if dagger_training:\n",
    "            f.append(np.load('/home/davide.celestini/DecisionTransformerForTrajectoryOptimization/drone/decision_transformer/saved_files/checkpoints/checkpoint_quad_random_forest_ctgrtg_cl_' + str(i) + '/log.npz', allow_pickle=True))\n",
    "            #f.append(np.load('/home/davide.celestini/ai-rpod/decision_transformer/saved_files/checkpoints/checkpoint_rtn_ctgrtg_v02_cl_0/log.npz', allow_pickle=True))\n",
    "        else:\n",
    "            f.append(np.load('/home/davide.celestini/DecisionTransformerForTrajectoryOptimization/drone/decision_transformer/saved_files/checkpoints/checkpoint_randt_forest_ctgrtg/log.npz', allow_pickle=True))\n",
    "    log.append(f[i]['log'].item())\n",
    "    unfeas_info.append({'i_unfeas_scp_cvx' : f[i]['i_unfeas_scp_cvx'], 'i_unfeas_self' : f[i]['i_unfeas_self']})"
   ]
  },
  {
   "cell_type": "code",
   "execution_count": null,
   "metadata": {},
   "outputs": [],
   "source": [
    "plt.figure()\n",
    "for i in range(n_iter):\n",
    "    if dagger_training:\n",
    "        plt.plot(np.arange(0,51)+i*50,log[i]['loss_ol'])\n",
    "    else:\n",
    "        plt.plot(log[i]['loss'])\n",
    "        plt.yscale('log')"
   ]
  },
  {
   "cell_type": "code",
   "execution_count": null,
   "metadata": {},
   "outputs": [],
   "source": [
    "plt.figure()\n",
    "for i in range(n_iter):\n",
    "    plt.plot(np.arange(0,51)+i*50,log[i]['loss_cl'])"
   ]
  },
  {
   "cell_type": "code",
   "execution_count": null,
   "metadata": {},
   "outputs": [],
   "source": [
    "plt.figure()\n",
    "for i in range(n_iter):\n",
    "    if dagger_training:\n",
    "        plt.plot(np.arange(0,51)+i*50,log[i]['loss_state_cl'])\n",
    "    else:\n",
    "        plt.plot(log[i]['loss_state'])\n",
    "        plt.yscale('log')\n",
    "\n",
    "plt.figure()\n",
    "for i in range(n_iter):\n",
    "    if dagger_training:\n",
    "        plt.plot(np.arange(0,51)+i*50,log[i]['loss_action_cl'])\n",
    "    else:\n",
    "        plt.plot(log[i]['loss_action'])\n",
    "        plt.yscale('log')"
   ]
  },
  {
   "cell_type": "code",
   "execution_count": null,
   "metadata": {},
   "outputs": [],
   "source": [
    "if self_training:\n",
    "    plt.figure()\n",
    "    for i in range(n_iter):\n",
    "        plt.scatter(i,len(unfeas_info[i]['i_unfeas_self']))"
   ]
  },
  {
   "cell_type": "code",
   "execution_count": null,
   "metadata": {},
   "outputs": [],
   "source": [
    "dataset = []\n",
    "dataset.append(np.load('/home/davide.celestini/DecisionTransformerForTrajectoryOptimization/drone/optimization/saved_files/closed_loop/dagger_checkpoint_quad_random_forest_ctgrtg.npz'))\n",
    "for i in range(n_iter-1):\n",
    "    dataset.append(np.load('/home/davide.celestini/DecisionTransformerForTrajectoryOptimization/drone/optimization/saved_files/closed_loop/dagger_checkpoint_quad_random_forest_ctgrtg_cl_' + str(i) + '.npz'))"
   ]
  },
  {
   "cell_type": "code",
   "execution_count": null,
   "metadata": {},
   "outputs": [],
   "source": [
    "dataset[0]"
   ]
  },
  {
   "cell_type": "code",
   "execution_count": null,
   "metadata": {},
   "outputs": [],
   "source": [
    "for i in range(n_iter):\n",
    "    print('DAGGER_ITERATION', str(i), ': Dataset dimension', len(dataset[i]['dataset_ix']))"
   ]
  },
  {
   "cell_type": "code",
   "execution_count": null,
   "metadata": {},
   "outputs": [],
   "source": [
    "for i in range(n_iter):\n",
    "    print('DAGGER_ITERATION', str(i), ': Number of cvx infeasible', len(dataset[i]['i_unfeas_cvx']))\n",
    "    print('DAGGER_ITERATION', str(i), ': Number of closed loop infeasible', len(dataset[i]['i_unfeas_artMPC']))"
   ]
  },
  {
   "cell_type": "code",
   "execution_count": null,
   "metadata": {},
   "outputs": [],
   "source": []
  },
  {
   "cell_type": "code",
   "execution_count": null,
   "metadata": {},
   "outputs": [],
   "source": [
    "j = 0\n",
    "i_dag = 1\n",
    "plt.figure()\n",
    "plt.plot(dataset[i_dag]['target_action'][j,:,0].T)\n",
    "plt.plot(dataset[i_dag]['context_action'][j,:,0].T)\n",
    "\n",
    "plt.figure()\n",
    "plt.plot(dataset[i_dag]['target_action'][j,:,1].T)\n",
    "plt.plot(dataset[i_dag]['context_action'][j,:,1].T)\n",
    "\n",
    "plt.figure()\n",
    "plt.plot(dataset[i_dag]['target_action'][j,:,2].T)\n",
    "plt.plot(dataset[i_dag]['context_action'][j,:,2].T)"
   ]
  },
  {
   "cell_type": "code",
   "execution_count": null,
   "metadata": {},
   "outputs": [],
   "source": [
    "dataset[i_dag]['target_action'][j,:,0]\n"
   ]
  },
  {
   "cell_type": "code",
   "execution_count": null,
   "metadata": {},
   "outputs": [],
   "source": []
  }
 ],
 "metadata": {
  "kernelspec": {
   "display_name": "Transformer",
   "language": "python",
   "name": "python3"
  },
  "language_info": {
   "codemirror_mode": {
    "name": "ipython",
    "version": 3
   },
   "file_extension": ".py",
   "mimetype": "text/x-python",
   "name": "python",
   "nbconvert_exporter": "python",
   "pygments_lexer": "ipython3",
   "version": "3.8.10"
  }
 },
 "nbformat": 4,
 "nbformat_minor": 2
}
