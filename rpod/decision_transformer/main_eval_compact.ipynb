{
 "cells": [
  {
   "cell_type": "code",
   "execution_count": null,
   "id": "70c80c8b-7510-4ad8-8735-46b1aa4509df",
   "metadata": {},
   "outputs": [],
   "source": [
    "import sys\n",
    "\n",
    "sys.path.append('..')\n",
    "\n",
    "import numpy as np\n",
    "import decision_transformer.manage as DT_manager\n",
    "from optimization.ocp import ocp_cvx\n",
    "from dynamics.orbit_dynamics import dynamics_roe_optimization, map_rtn_to_roe\n",
    "from optimization.rpod_scenario import oe_0_ref, t_0, n_time_rpod, dock_param_maker\n",
    "%matplotlib ipympl"
   ]
  },
  {
   "cell_type": "code",
   "execution_count": null,
   "id": "e67614bd",
   "metadata": {},
   "outputs": [],
   "source": [
    "# Simulation configuration\n",
    "transformer_model_name = 'checkpoint_rtn_ctgrtg'\n",
    "import_config = DT_manager.transformer_import_config(transformer_model_name)\n",
    "\n",
    "state_representation = import_config['state_representation']\n",
    "dataset_to_use = import_config['dataset_to_use']\n",
    "mdp_constr = import_config['mdp_constr']\n",
    "transformer_model_name = import_config['model_name']\n",
    "timestep_norm = import_config['timestep_norm']"
   ]
  },
  {
   "cell_type": "code",
   "execution_count": null,
   "id": "3c4c6c84-629f-466b-9f00-6d1e1c7c2c91",
   "metadata": {},
   "outputs": [],
   "source": [
    "#datasets, dataloaders = DT_manager.get_train_val_test_data(state_representation, dataset_to_use, mdp_constr)\n",
    "datasets, dataloaders = DT_manager.get_train_val_test_data(state_representation, dataset_to_use, mdp_constr, transformer_model_name, timestep_norm)\n",
    "train_dataset, val_dataset, test_dataset = datasets\n",
    "train_loader, eval_loader, test_loader = dataloaders\n",
    "data_stats = datasets[0].data_stats"
   ]
  },
  {
   "cell_type": "code",
   "execution_count": null,
   "id": "a4dcd38a",
   "metadata": {},
   "outputs": [],
   "source": [
    "train_dataset.n_data, test_dataset.n_data, train_dataset.n_data + test_dataset.n_data"
   ]
  },
  {
   "cell_type": "code",
   "execution_count": null,
   "id": "a3759ed2-bcee-453a-9d4a-4f8c3b1d0fb8",
   "metadata": {},
   "outputs": [],
   "source": [
    "# Get the model and set it into eval mode\n",
    "model = DT_manager.get_DT_model(transformer_model_name, train_loader, eval_loader)\n",
    "model.eval();"
   ]
  },
  {
   "cell_type": "code",
   "execution_count": null,
   "id": "55f7a34f-3547-4c0c-898a-9185e356d67d",
   "metadata": {},
   "outputs": [],
   "source": [
    "# Use the model to predict the trajectory\n",
    "test_sample = next(iter(test_loader))#test_loader.dataset.getix(7)#\n",
    "DT_trajectory,_ = DT_manager.use_model_for_imitation_learning(model, test_loader, test_sample, import_config['state_representation'], use_dynamics=True, output_attentions=True)"
   ]
  },
  {
   "cell_type": "code",
   "execution_count": null,
   "id": "d64a231f",
   "metadata": {},
   "outputs": [],
   "source": [
    "# Precompute stm, cim, phi\n",
    "states_i, actions_i, rtgs_i, ctgs_i, goal_i, timesteps_i, attention_mask_i, oe, dt, time_sec, horizons, ix = test_sample\n",
    "hrz = horizons.item()\n",
    "stm_hrz, cim_hrz, psi_hrz, oe_hrz, time_hrz, dt_hrz = dynamics_roe_optimization(oe_0_ref, t_0, hrz, n_time_rpod)\n",
    "if state_representation == 'roe':\n",
    "    state_roe_0 = np.array((states_i[0, 0, :] * data_stats['states_std'][0]) + data_stats['states_mean'][0])\n",
    "elif state_representation == 'rtn':\n",
    "    state_rtn_0 = np.array((states_i[0, 0, :] * data_stats['states_std'][0]) + data_stats['states_mean'][0])\n",
    "    state_roe_0 = map_rtn_to_roe(state_rtn_0, np.array(oe[0, :, 0]))\n",
    "dock_param, _= dock_param_maker(np.array((goal_i[0, 0, :] * data_stats['goal_std'][0]) + data_stats['goal_mean'][0]))\n",
    "\n",
    "# Compute convex solution\n",
    "states_cvx, action_cvx, feas_cvx = ocp_cvx(stm_hrz, cim_hrz, psi_hrz, state_roe_0, dock_param, n_time_rpod)\n",
    "dyn_trajectory, _ = DT_manager.torch_model_inference_dyn(model, test_loader, test_sample, stm_hrz, cim_hrz, psi_hrz, state_representation, rtg_perc=1., ctg_perc=0., rtg=None)"
   ]
  },
  {
   "cell_type": "code",
   "execution_count": null,
   "id": "64b14a57",
   "metadata": {},
   "outputs": [],
   "source": [
    "# Print the index of the trajectory and plot\n",
    "'''DT_trajectory['roe_ol'] = dyn_trajectory['roe_dyn']\n",
    "DT_trajectory['rtn_ol'] = dyn_trajectory['rtn_dyn']\n",
    "DT_trajectory['dv_ol'] = dyn_trajectory['dv_dyn']'''\n",
    "print(test_sample[-1])\n",
    "DT_manager.plot_DT_trajectory(DT_trajectory)"
   ]
  }
 ],
 "metadata": {
  "kernelspec": {
   "display_name": "Python 3 (ipykernel)",
   "language": "python",
   "name": "python3"
  },
  "language_info": {
   "codemirror_mode": {
    "name": "ipython",
    "version": 3
   },
   "file_extension": ".py",
   "mimetype": "text/x-python",
   "name": "python",
   "nbconvert_exporter": "python",
   "pygments_lexer": "ipython3",
   "version": "3.10.12"
  }
 },
 "nbformat": 4,
 "nbformat_minor": 5
}
